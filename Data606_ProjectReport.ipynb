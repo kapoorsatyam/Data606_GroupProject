{
 "cells": [
  {
   "cell_type": "markdown",
   "metadata": {},
   "source": [
    "# The Influence of Social Media Usage on Consumer Purchasing Decisions"
   ]
  },
  {
   "cell_type": "markdown",
   "metadata": {},
   "source": [
    "### Introduction"
   ]
  },
  {
   "cell_type": "markdown",
   "metadata": {},
   "source": [
    "### Background and Significance"
   ]
  },
  {
   "cell_type": "markdown",
   "metadata": {},
   "source": [
    "### About the DataSet"
   ]
  },
  {
   "cell_type": "markdown",
   "metadata": {},
   "source": [
    "### Data Cleaning/ Stratified Sampling"
   ]
  },
  {
   "cell_type": "markdown",
   "metadata": {},
   "source": [
    "### Exploratory Data Analysis"
   ]
  },
  {
   "cell_type": "markdown",
   "metadata": {},
   "source": [
    "### Guiding Question 1->Estimating Population Parameters​"
   ]
  },
  {
   "cell_type": "markdown",
   "metadata": {},
   "source": [
    "### Guiding Question 2 -> Impact of Social Media Usage, Age Group, and Ad Frequency on Unplanned Purchases"
   ]
  },
  {
   "cell_type": "markdown",
   "metadata": {},
   "source": [
    "### Guiding Question 3 -> Predicting consumer spending using social media factors"
   ]
  },
  {
   "cell_type": "markdown",
   "metadata": {},
   "source": [
    "### Guiding Question 4 -> Are influencer promotions more effective than brand advertisements in influencing purchases?​"
   ]
  },
  {
   "cell_type": "markdown",
   "metadata": {},
   "source": [
    "### Guiding Question 5 -> Association Between Ad Frequency and Platform Usage Frequency"
   ]
  },
  {
   "cell_type": "markdown",
   "metadata": {},
   "source": [
    "### Conclusion and Future Scope"
   ]
  },
  {
   "cell_type": "markdown",
   "metadata": {},
   "source": [
    "### References"
   ]
  },
  {
   "cell_type": "markdown",
   "metadata": {},
   "source": [
    "##### [1] Google, \"The Influence of Social Media Usage on Consumer Purchasing Decisions,\"GoogleForms.[Online]. Available:https://docs.google.com/forms/d/e/1FAIpQLSfN6FVKhkTBqA_7D8FMbNO17M7GtQrUU5yqwmsBgPKvUTVmoA/viewform. [Accessed: 15-Jan-2025].​\n",
    "\n",
    "##### [2] Nielsen, J. and Budiu, R., \"Survey Best Practices,\" Nielsen Norman Group, 2012. [Online]. Available: https://www.nngroup.com/articles/survey-best-practices/. [Accessed: 15-Jan-2025].​\n",
    "\n",
    "##### [3] Wikipedia contributors, \"Binomial distribution,\" Wikipedia, The Free Encyclopedia.[Online].Available: https://en.wikipedia.org/wiki/Binomial_distribution. [Accessed: 15-Jan-2025]​\n",
    "\n",
    "##### [4] Wikipedia contributors, \"Poisson distribution,\" Wikipedia, The Free Encyclopedia.[Online].Available: https://en.wikipedia.org/wiki/Poisson_distribution. [Accessed: 15-Jan-2025].​\n",
    "\n",
    "##### [5] DASCA, \"What is statistical modelling in data science,\" DASCA - World of Data Science. [Online]. Available: https://www.dasca.org/world-of-data-science/article/what-is-statistical-modeling-in-data-science. [Accessed: 20-Jan-2025]"
   ]
  }
 ],
 "metadata": {
  "kernelspec": {
   "display_name": "Python 3",
   "language": "python",
   "name": "python3"
  },
  "language_info": {
   "name": "python",
   "version": "3.13.1"
  }
 },
 "nbformat": 4,
 "nbformat_minor": 2
}
